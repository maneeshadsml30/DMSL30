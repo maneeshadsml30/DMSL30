{
  "nbformat": 4,
  "nbformat_minor": 0,
  "metadata": {
    "colab": {
      "provenance": [],
      "authorship_tag": "ABX9TyMMGK0G+JUaALY0m+Hd4fgu",
      "include_colab_link": true
    },
    "kernelspec": {
      "name": "python3",
      "display_name": "Python 3"
    },
    "language_info": {
      "name": "python"
    }
  },
  "cells": [
    {
      "cell_type": "markdown",
      "metadata": {
        "id": "view-in-github",
        "colab_type": "text"
      },
      "source": [
        "<a href=\"https://colab.research.google.com/github/maneeshadsml30/DMSL30/blob/main/DMSL_Task_1.ipynb\" target=\"_parent\"><img src=\"https://colab.research.google.com/assets/colab-badge.svg\" alt=\"Open In Colab\"/></a>"
      ]
    },
    {
      "cell_type": "markdown",
      "source": [
        "**TASK 1**"
      ],
      "metadata": {
        "id": "b9nS59xvI9cK"
      }
    },
    {
      "cell_type": "markdown",
      "source": [
        "Write a python program to find those numbers which are divisible by 7 and multiples of 5"
      ],
      "metadata": {
        "id": "8of5oMUZJGaD"
      }
    },
    {
      "cell_type": "code",
      "source": [
        "numbers = input(\"Enter the range of numbers separated by commas: \")\n",
        "list_of_n= numbers.split(\",\")\n",
        "start_num = int(list_of_n[0])\n",
        "end_num = int(list_of_n[1])\n",
        "\n",
        "list_of_nums = []\n",
        "\n",
        "for i in range(start_num, end_num + 1):\n",
        "    if i % 7 == 0 and i % 5 == 0:\n",
        "        list_of_nums.append(str(i))\n",
        "\n",
        "result_str = \",\".join(list_of_nums)\n",
        "\n",
        "if list_of_nums:\n",
        "    print(result_str)\n",
        "else:\n",
        "    print(\"In the given range none of the numbers are divisible by 7 and multiple of 5\")"
      ],
      "metadata": {
        "colab": {
          "base_uri": "https://localhost:8080/"
        },
        "id": "HJ4wo99lJMRh",
        "outputId": "d9be9300-1c3e-4c17-fba9-05c354f8591b"
      },
      "execution_count": 2,
      "outputs": [
        {
          "output_type": "stream",
          "name": "stdout",
          "text": [
            "Enter the range of numbers separated by commas: 10,107\n",
            "35,70,105\n"
          ]
        }
      ]
    },
    {
      "cell_type": "code",
      "source": [],
      "metadata": {
        "id": "QZUelH2iI4C6"
      },
      "execution_count": 27,
      "outputs": []
    },
    {
      "cell_type": "markdown",
      "source": [
        "**TASK** **2**"
      ],
      "metadata": {
        "id": "6fCdb7mfIS0J"
      }
    },
    {
      "cell_type": "markdown",
      "source": [
        "Write a python program to check the user input is even or odd or zero."
      ],
      "metadata": {
        "id": "LDa5Rrb1IeHM"
      }
    },
    {
      "cell_type": "code",
      "execution_count": 27,
      "metadata": {
        "colab": {
          "base_uri": "https://localhost:8080/"
        },
        "id": "hpReALc_v7dN",
        "outputId": "655f3e81-9452-4dd9-cfdf-e987f8d59345"
      },
      "outputs": [
        {
          "output_type": "stream",
          "name": "stdout",
          "text": [
            "Enter a number:122\n",
            "Number is EVEN\n"
          ]
        }
      ],
      "source": [
        "n=int(input(\"Enter a number:\"))\n",
        "\n",
        "if n==0:\n",
        "  print (\"Number is ZERO\")\n",
        "\n",
        "elif n%2==0:\n",
        "  print (\"Number is EVEN\")\n",
        "\n",
        "else:\n",
        "  print (\"Number is ODD\")\n",
        "\n",
        "\n",
        "\n",
        "\n",
        "\n",
        "\n",
        "\n",
        "\n",
        "\n",
        "\n"
      ]
    },
    {
      "cell_type": "markdown",
      "source": [
        "**TASK 3**"
      ],
      "metadata": {
        "id": "JEgl5c6yJtO6"
      }
    },
    {
      "cell_type": "markdown",
      "source": [
        "Print decimal part of an input number. If the decimal part is zero print the string : “INTEGER”"
      ],
      "metadata": {
        "id": "YJKVadzlBWu0"
      }
    },
    {
      "cell_type": "markdown",
      "source": [],
      "metadata": {
        "id": "aznEkgDCJ00x"
      }
    },
    {
      "cell_type": "code",
      "source": [
        "n=(input(\"ENTER THE DECIMAL NUMBER:\"))\n",
        "\n",
        "decimal=n.split(\".\")\n",
        "\n",
        "if(int(decimal[1])==0):\n",
        "\n",
        "    print(\"INTEGER\")\n",
        "\n",
        "else:\n",
        "\n",
        "    print(f\" THE DECIMAL PART IS {decimal[1]}\")"
      ],
      "metadata": {
        "colab": {
          "base_uri": "https://localhost:8080/"
        },
        "id": "79WDha4u3lUz",
        "outputId": "c70d7813-3ad2-45ab-d79d-37f1d450a9e4"
      },
      "execution_count": 1,
      "outputs": [
        {
          "output_type": "stream",
          "name": "stdout",
          "text": [
            "ENTER THE DECIMAL NUMBER:12.759\n",
            " THE DECIMAL PART IS 759\n"
          ]
        }
      ]
    }
  ]
}