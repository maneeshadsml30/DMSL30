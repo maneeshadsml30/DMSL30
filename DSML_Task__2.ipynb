{
  "nbformat": 4,
  "nbformat_minor": 0,
  "metadata": {
    "colab": {
      "provenance": [],
      "authorship_tag": "ABX9TyMD/H17RfQp3IIhivbdsDhF",
      "include_colab_link": true
    },
    "kernelspec": {
      "name": "python3",
      "display_name": "Python 3"
    },
    "language_info": {
      "name": "python"
    }
  },
  "cells": [
    {
      "cell_type": "markdown",
      "metadata": {
        "id": "view-in-github",
        "colab_type": "text"
      },
      "source": [
        "<a href=\"https://colab.research.google.com/github/maneeshadsml30/DMSL30/blob/main/DSML_Task__2.ipynb\" target=\"_parent\"><img src=\"https://colab.research.google.com/assets/colab-badge.svg\" alt=\"Open In Colab\"/></a>"
      ]
    },
    {
      "cell_type": "markdown",
      "source": [
        "# **1. Write a Python program to sum all the items in a list.**"
      ],
      "metadata": {
        "id": "6GLUuKyHX3xt"
      }
    },
    {
      "cell_type": "code",
      "source": [
        "num_list = [10,20,30,40,50,60,70]\n",
        "sum = 0\n",
        "for num in num_list :\n",
        "    sum += num\n",
        "print(\"The sum of elements in the list is = \",sum)"
      ],
      "metadata": {
        "colab": {
          "base_uri": "https://localhost:8080/"
        },
        "id": "Iq1i9w8mYAFa",
        "outputId": "1f0211e9-108a-4b6d-f8d7-3574e031eeaf"
      },
      "execution_count": null,
      "outputs": [
        {
          "output_type": "stream",
          "name": "stdout",
          "text": [
            "The sum of elements in the list is =  280\n"
          ]
        }
      ]
    },
    {
      "cell_type": "markdown",
      "source": [
        "# 2. Write a Python program to get the largest number from a list."
      ],
      "metadata": {
        "id": "6aG5L1AMYkQz"
      }
    },
    {
      "cell_type": "code",
      "source": [
        "num_list = [10,20,30,40,50,60,70]\n",
        "print(\"The largest number in the list is : \",max(num_list))"
      ],
      "metadata": {
        "colab": {
          "base_uri": "https://localhost:8080/"
        },
        "id": "Wh0ql0QxYrXe",
        "outputId": "d693aa81-0a20-4f32-ac9e-73c29531976e"
      },
      "execution_count": null,
      "outputs": [
        {
          "output_type": "stream",
          "name": "stdout",
          "text": [
            "The largest number in the list is :  70\n"
          ]
        }
      ]
    },
    {
      "cell_type": "markdown",
      "source": [
        "# Write a Python program to count the number of strings from a given list of strings. The string length is 2 or more and the first and last characters are the same."
      ],
      "metadata": {
        "id": "uu-HuyV2Y8zY"
      }
    },
    {
      "cell_type": "code",
      "source": [
        "given_list = ['abc', 'xyz', 'aba', '1221']\n",
        "count = 0\n",
        "for string in given_list :\n",
        "    if len(string)>=2 and string[0] == string[-1]:\n",
        "       count += 1\n",
        "\n",
        "print(count)"
      ],
      "metadata": {
        "colab": {
          "base_uri": "https://localhost:8080/"
        },
        "id": "xzaAvn8fZGEj",
        "outputId": "5795be96-1eae-425b-b501-3bfe09905d20"
      },
      "execution_count": null,
      "outputs": [
        {
          "output_type": "stream",
          "name": "stdout",
          "text": [
            "2\n"
          ]
        }
      ]
    },
    {
      "cell_type": "markdown",
      "source": [
        "# Write a Python program to remove duplicates from a list."
      ],
      "metadata": {
        "id": "Whb0skdpZka-"
      }
    },
    {
      "cell_type": "code",
      "source": [
        "given_list = ['abc', 'xyz','efg','str', '100','abc',123,456]\n",
        "duplicate_list=[]\n",
        "for element in given_list :\n",
        "  if element not in duplicate_list :\n",
        "    duplicate_list.append(element)\n",
        "print(duplicate_list)"
      ],
      "metadata": {
        "colab": {
          "base_uri": "https://localhost:8080/"
        },
        "id": "UPr_nVSEZpW1",
        "outputId": "c31bbd1a-7169-474d-b072-dd2e4df536ca"
      },
      "execution_count": null,
      "outputs": [
        {
          "output_type": "stream",
          "name": "stdout",
          "text": [
            "['abc', 'xyz', 'efg', 'str', '100', 123, 456]\n"
          ]
        }
      ]
    },
    {
      "cell_type": "markdown",
      "source": [
        "# 5. Write a Python program to check if a list is empty or not."
      ],
      "metadata": {
        "id": "fqYVKHBBamP6"
      }
    },
    {
      "cell_type": "code",
      "source": [
        "list1 = ['abc', 'xyz','efg','str', '100','abc',123,456]\n",
        "list2 = []\n",
        "error = False\n",
        "choise = input(\"\"\"Choose list for the test:\n",
        "Enter 1 for list1\n",
        "Enter 2 for list2\n",
        "\"\"\")\n",
        "if choise == '1' :\n",
        "    selected_list = list1\n",
        "elif choise == '2' :\n",
        "    selected_list = list2\n",
        "else :\n",
        "    print(f\"Error input '{choise}' please enter 1 for list1, 2 for list2\")\n",
        "    error = True\n",
        "\n",
        "if not error :\n",
        "    if len(selected_list) == 0 :\n",
        "        print(f\"The selected list{choise} is an empty list\")\n",
        "    else :\n",
        "        print(f\"The selected list{choise} is not an empty list and the list{choise} is {selected_list}\")"
      ],
      "metadata": {
        "colab": {
          "base_uri": "https://localhost:8080/"
        },
        "id": "jkyaBCp7atwV",
        "outputId": "d5c7b7ed-30cc-4152-8148-977fdf76cf3f"
      },
      "execution_count": null,
      "outputs": [
        {
          "output_type": "stream",
          "name": "stdout",
          "text": [
            "Choose list for the test:\n",
            "Enter 1 for list1\n",
            "Enter 2 for list2\n",
            "1\n",
            "The selected list1 is not an empty list and the list1 is ['abc', 'xyz', 'efg', 'str', '100', 'abc', 123, 456]\n"
          ]
        }
      ]
    },
    {
      "cell_type": "markdown",
      "source": [
        "# Write a Python program to filter the list if the length of the character is < 4"
      ],
      "metadata": {
        "id": "pAbXTHVybOTC"
      }
    },
    {
      "cell_type": "code",
      "source": [
        "Sample_List = ['abc', 'xyz', 'aba', '1221']\n",
        "print([element for element in Sample_List if len(element)<4])"
      ],
      "metadata": {
        "colab": {
          "base_uri": "https://localhost:8080/"
        },
        "id": "WF_8IcGNbabl",
        "outputId": "621110aa-0042-41ba-c278-cc281bce3207"
      },
      "execution_count": null,
      "outputs": [
        {
          "output_type": "stream",
          "name": "stdout",
          "text": [
            "['abc', 'xyz', 'aba']\n"
          ]
        }
      ]
    },
    {
      "cell_type": "markdown",
      "source": [
        "# 7.Write a Python program to find the second largest number in a list."
      ],
      "metadata": {
        "id": "Dft-gJVQbd6d"
      }
    },
    {
      "cell_type": "code",
      "source": [
        "number_list = [1,2,3,4,5,6,7,8,9,10,11,12,13,14,1000,99]\n",
        "list_copy = number_list.copy()\n",
        "list_copy.remove(max(number_list))\n",
        "print(f\"{max(list_copy)} is the second largest number in the list\")"
      ],
      "metadata": {
        "colab": {
          "base_uri": "https://localhost:8080/"
        },
        "id": "t-Im_d_Ebias",
        "outputId": "a5125299-a50a-41c9-d957-628c75cdb176"
      },
      "execution_count": null,
      "outputs": [
        {
          "output_type": "stream",
          "name": "stdout",
          "text": [
            "99 is the second largest number in the list\n"
          ]
        }
      ]
    },
    {
      "cell_type": "markdown",
      "source": [
        "# 8. Write a Python program to reverse a list at a specific location."
      ],
      "metadata": {
        "id": "bJcAUEKUbzNA"
      }
    },
    {
      "cell_type": "code",
      "source": [
        "input_list = ['apple','mac','banana','windows',1,2,3,4,5,6,7,8,9,10,'linux']\n",
        "index_input_data = input(\"Enter specific location to reverse the list in the format: start_index,end_index  :\")\n",
        "start_index,end_index = map(int,index_input_data.split(','))\n",
        "input_list[start_index : end_index+1] = input_list[start_index : end_index+1][::-1]\n",
        "\n",
        "print(f\"The reversed list at location '{index_input_data}' is {input_list}\")"
      ],
      "metadata": {
        "colab": {
          "base_uri": "https://localhost:8080/"
        },
        "id": "k_Qd4abAb3Mc",
        "outputId": "69467851-c46d-4573-8b03-7e124c5d6292"
      },
      "execution_count": null,
      "outputs": [
        {
          "output_type": "stream",
          "name": "stdout",
          "text": [
            "Enter specific location to reverse the list in the format: start_index,end_index  :1,4\n",
            "The reversed list at location '1,4' is ['apple', 1, 'windows', 'banana', 'mac', 2, 3, 4, 5, 6, 7, 8, 9, 10, 'linux']\n"
          ]
        }
      ]
    },
    {
      "cell_type": "markdown",
      "source": [
        "# 9. Write a Python program to check if a list is a palindrome or not. Return true otherwise false."
      ],
      "metadata": {
        "id": "8M4qz2KtcaEX"
      }
    },
    {
      "cell_type": "code",
      "source": [
        "def is_palindrome(check_list):\n",
        "    if len(check_list) > 1:\n",
        "        if check_list == check_list[::-1]:\n",
        "            return True\n",
        "        else:\n",
        "            return False\n",
        "    else :\n",
        "        if check_list[0] == check_list[0][::-1] :\n",
        "            print(f\"The list contains only an element '{check_list[0]}' which is palindrome\")\n",
        "            return True\n",
        "        else :\n",
        "            print(f\"The list contains only an element '{check_list[0]}' which is not palindrome\")\n",
        "            return False\n",
        "\n",
        "data_list = input(\"Enter list elements separated by commas : \").split(',')\n",
        "print(is_palindrome(data_list))"
      ],
      "metadata": {
        "id": "StEws0EXcdl-"
      },
      "execution_count": null,
      "outputs": []
    },
    {
      "cell_type": "markdown",
      "source": [
        "# 10. Write a Python a program to find the union and intersection of two lists"
      ],
      "metadata": {
        "id": "fn6BaA6Mc7_-"
      }
    },
    {
      "cell_type": "code",
      "source": [
        "List_A = input(\"Enter list A elements Separated by commas: \").split(',')\n",
        "List_B = input(\"Enter list B elements Separated by commas: \").split(',')\n",
        "try:\n",
        "    List_A = list(map(int,List_A))\n",
        "    List_B = list(map(int,List_B))\n",
        "except:\n",
        "    pass\n",
        "A = set(List_A)\n",
        "B = set(List_B)\n",
        "U = list(A|B)\n",
        "I = list(A&B)\n",
        "U.sort()\n",
        "I.sort()\n",
        "print(f\"\\nThe union of Lists A and B is = {U}\")\n",
        "print(f\"The intersection of Lists A and B is = {I}\")"
      ],
      "metadata": {
        "colab": {
          "base_uri": "https://localhost:8080/"
        },
        "id": "0WQE3HDbdBIE",
        "outputId": "225c188f-f1d0-4ce6-b3b2-311dc82a6feb"
      },
      "execution_count": null,
      "outputs": [
        {
          "output_type": "stream",
          "name": "stdout",
          "text": [
            "Enter list A elements Separated by commas: 1,2,3,4\n",
            "Enter list B elements Separated by commas: 2,3,4,5\n",
            "\n",
            "The union of Lists A and B is = [1, 2, 3, 4, 5]\n",
            "The intersection of Lists A and B is = [2, 3, 4]\n"
          ]
        }
      ]
    },
    {
      "cell_type": "markdown",
      "source": [],
      "metadata": {
        "id": "1UK3OT55dq3S"
      }
    }
  ]
}